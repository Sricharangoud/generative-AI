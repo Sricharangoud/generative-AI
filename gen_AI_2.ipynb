{
  "nbformat": 4,
  "nbformat_minor": 0,
  "metadata": {
    "colab": {
      "provenance": [],
      "include_colab_link": true
    },
    "kernelspec": {
      "name": "python3",
      "display_name": "Python 3"
    },
    "language_info": {
      "name": "python"
    }
  },
  "cells": [
    {
      "cell_type": "markdown",
      "metadata": {
        "id": "view-in-github",
        "colab_type": "text"
      },
      "source": [
        "<a href=\"https://colab.research.google.com/github/Sricharangoud/generative-AI/blob/main/gen_AI_2.ipynb\" target=\"_parent\"><img src=\"https://colab.research.google.com/assets/colab-badge.svg\" alt=\"Open In Colab\"/></a>"
      ]
    },
    {
      "cell_type": "markdown",
      "source": [
        "1.Develop mathematical modeling for the given case study and find solution using Python.\n",
        "\n",
        " Consider a chocolate manufacturing company that produces only two types of chocolate i.e. A and B. Both the chocolates require Milk and Choco only. To manufacture each unit of A and B, the following quantities required: Each unit of A requires 1 unit of Milk and 3 units of Choco Each unit of B requires 1 unit of Milk and 2 units of Choco The company kitchen has a total of 5 units of Milk and 12 units of Choco. On each sale, the company makes a profit of Rs 6 per unit A sold and Rs 5 per unit B sold. Now, the company wishes to maximize its profit. How many units of A and B should it produce respectively?"
      ],
      "metadata": {
        "id": "SrXpvNH8juim"
      }
    },
    {
      "cell_type": "code",
      "execution_count": 1,
      "metadata": {
        "id": "ve2ydqPIhjFc"
      },
      "outputs": [],
      "source": [
        "import numpy as np\n",
        "from scipy.optimize import linprog"
      ]
    },
    {
      "cell_type": "code",
      "source": [
        "c = [-6, -5]\n",
        "A = [[1, 1], [3, 2]]\n",
        "b = [5, 12]"
      ],
      "metadata": {
        "id": "GtXAWLgei-Wa"
      },
      "execution_count": 2,
      "outputs": []
    },
    {
      "cell_type": "code",
      "source": [
        "x0_bounds = (0, None)\n",
        "x1_bounds = (0, None)"
      ],
      "metadata": {
        "id": "iIC6uohji-S0"
      },
      "execution_count": 3,
      "outputs": []
    },
    {
      "cell_type": "code",
      "source": [
        "result = linprog(c, A_ub=A, b_ub=b, bounds=[x0_bounds, x1_bounds], method='highs')"
      ],
      "metadata": {
        "id": "r5k2JyTMi-Q2"
      },
      "execution_count": 4,
      "outputs": []
    },
    {
      "cell_type": "code",
      "source": [
        "print(\"Status:\", result.message)\n",
        "print(\"Optimal Solution:\")\n",
        "print(\"No of A type chocolete:\", result.x[0])\n",
        "print(\"No of B type chocolete:\", result.x[1])\n",
        "print(\"Maximum Profit:\", -result.fun)"
      ],
      "metadata": {
        "colab": {
          "base_uri": "https://localhost:8080/"
        },
        "id": "VLrhP5ROlfXO",
        "outputId": "8ddeb9a9-ba8a-4520-b94f-90b3982e245c"
      },
      "execution_count": 5,
      "outputs": [
        {
          "output_type": "stream",
          "name": "stdout",
          "text": [
            "Status: Optimization terminated successfully. (HiGHS Status 7: Optimal)\n",
            "Optimal Solution:\n",
            "No of A type chocolete: 2.0\n",
            "No of B type chocolete: 3.0\n",
            "Maximum Profit: 27.0\n"
          ]
        }
      ]
    },
    {
      "cell_type": "markdown",
      "source": [
        "2.Develop mathematical modeling for the given case study and find solution using\n",
        "Python\n",
        "\n",
        "\n",
        "A farmer has recently acquired a 110 hectares piece of land. He has decided to grow Wheat and barley on that land. Due to the quality of the sun and the region's excellent climate, the entire production of Wheat and Barley can be sold. He wants to know how to plant each variety in the 110 hectares, given the costs, net profits and labor requirements according to the data shown below:\n",
        "Onana Veeramsett tty)\n",
        "gr.research@gmail.com\n",
        "Crop\n",
        "Cost (Rs/Hec)\n",
        "Profit (Price/Hec)\n",
        "Man-days/Hec\n",
        "Wheat\n",
        "7000\n",
        "50\n",
        "10\n",
        "Barley\n",
        "2000\n",
        "120\n",
        "30\n",
        "The farmer has a budget of Rs. 7,00,000 and availability of 1,200 man-days during the planning horizon. Find the optimal solution and the optimal value."
      ],
      "metadata": {
        "id": "sUUJ6PLul-qm"
      }
    },
    {
      "cell_type": "code",
      "source": [
        "from scipy.optimize import linprog"
      ],
      "metadata": {
        "id": "aDra884SlfTo"
      },
      "execution_count": 6,
      "outputs": []
    },
    {
      "cell_type": "code",
      "source": [
        "c = [-50, -120]\n",
        "A=[[1,1],[7000,2000],[10,30]]\n",
        "b=[110,700000,1200]"
      ],
      "metadata": {
        "id": "728wxsBUlfRf"
      },
      "execution_count": 7,
      "outputs": []
    },
    {
      "cell_type": "code",
      "source": [
        "x_bounds = (0, None)\n",
        "y_bounds = (0, None)"
      ],
      "metadata": {
        "id": "KVzceyBrlfPR"
      },
      "execution_count": 8,
      "outputs": []
    },
    {
      "cell_type": "code",
      "source": [
        "result = linprog(c, A_ub=A, b_ub=b, bounds=[x_bounds, y_bounds], method='highs')"
      ],
      "metadata": {
        "id": "-PuR1P8NlfNA"
      },
      "execution_count": 9,
      "outputs": []
    },
    {
      "cell_type": "code",
      "source": [
        "print(\"Status:\", result.message)\n",
        "print(\"Optimal Solution:\")\n",
        "print(\"Hectares of Wheat:\", result.x[0])\n",
        "print(\"Hectares of Barley:\", result.x[1])\n",
        "print(\"Maximum Profit:\", -result.fun)"
      ],
      "metadata": {
        "colab": {
          "base_uri": "https://localhost:8080/"
        },
        "id": "gtjpLdDdmh33",
        "outputId": "f2cef7ac-bb4c-4421-f8be-cbb1ce46e67c"
      },
      "execution_count": 10,
      "outputs": [
        {
          "output_type": "stream",
          "name": "stdout",
          "text": [
            "Status: Optimization terminated successfully. (HiGHS Status 7: Optimal)\n",
            "Optimal Solution:\n",
            "Hectares of Wheat: 97.89473684210526\n",
            "Hectares of Barley: 7.368421052631579\n",
            "Maximum Profit: 5778.9473684210525\n"
          ]
        }
      ]
    }
  ]
}