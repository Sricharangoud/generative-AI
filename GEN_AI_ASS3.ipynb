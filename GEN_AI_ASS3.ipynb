{
  "nbformat": 4,
  "nbformat_minor": 0,
  "metadata": {
    "colab": {
      "provenance": [],
      "authorship_tag": "ABX9TyNEA+m3J6tBw+/FAwRPUmNz",
      "include_colab_link": true
    },
    "kernelspec": {
      "name": "python3",
      "display_name": "Python 3"
    },
    "language_info": {
      "name": "python"
    }
  },
  "cells": [
    {
      "cell_type": "markdown",
      "metadata": {
        "id": "view-in-github",
        "colab_type": "text"
      },
      "source": [
        "<a href=\"https://colab.research.google.com/github/Sricharangoud/generative-AI/blob/main/GEN_AI_ASS3.ipynb\" target=\"_parent\"><img src=\"https://colab.research.google.com/assets/colab-badge.svg\" alt=\"Open In Colab\"/></a>"
      ]
    },
    {
      "cell_type": "markdown",
      "source": [
        "1. (1 ponto) Write Python code without using any libraries to find the value of x at which the\n",
        "function f(x) shown in equation (1) has minimum value. Consider Gradient Descent Algorithm.\n",
        "f (x) = 5x4 + 3x2 + 10 (1)\n"
      ],
      "metadata": {
        "id": "CLQott59kfVS"
      }
    },
    {
      "cell_type": "code",
      "execution_count": 29,
      "metadata": {
        "id": "m7FnGRjNiCSI"
      },
      "outputs": [],
      "source": [
        "def f(x):\n",
        "  \"\"\"Calculates the value of the function f(x) = 5x^4 + 3x^2 + 10.\"\"\"\n",
        "  return 5*x**4 + 3*x**2 + 10"
      ]
    },
    {
      "cell_type": "code",
      "source": [
        "def my_function(x):\n",
        "  return 20 * x**3 + 6 * x"
      ],
      "metadata": {
        "id": "6J4utgnEjOCb"
      },
      "execution_count": 35,
      "outputs": []
    },
    {
      "cell_type": "code",
      "source": [
        "def gradient_descent(learning_rate, initial_x, num_iterations):\n",
        "  x = initial_x\n",
        "  for _ in range(num_iterations):\n",
        "    gradient = df(x)\n",
        "    x = x - learning_rate * gradient\n",
        "  return x\n"
      ],
      "metadata": {
        "id": "DdlT1XHbjUBJ"
      },
      "execution_count": 36,
      "outputs": []
    },
    {
      "cell_type": "code",
      "source": [
        "learning_rate = 0.01\n",
        "initial_x = 1\n",
        "num_iterations = 1000\n"
      ],
      "metadata": {
        "id": "Dj5BWg0xjb0I"
      },
      "execution_count": 37,
      "outputs": []
    },
    {
      "cell_type": "code",
      "source": [
        "x_min = gradient_descent(learning_rate, initial_x, num_iterations)\n",
        "print(f\"The value of x that minimizes f(x) is approximately: {x_min}\")"
      ],
      "metadata": {
        "colab": {
          "base_uri": "https://localhost:8080/"
        },
        "id": "9RbcUu3tkHd9",
        "outputId": "63468f8a-ace2-47d0-99d7-2cb5e4e38b11"
      },
      "execution_count": 39,
      "outputs": [
        {
          "output_type": "stream",
          "name": "stdout",
          "text": [
            "The value of x that minimizes f(x) is approximately: 5.963540395046457e-28\n"
          ]
        }
      ]
    },
    {
      "cell_type": "markdown",
      "source": [
        "2. (1 ponto) Write Python code without using any libraries to find the value of x and y at which the\n",
        "function g(x,y) shown in equation (2) has minimum value. Consider Gradient Descent Algorithm.\n",
        "f (x) = 3x2 + 5e−y + 10 (2)\n"
      ],
      "metadata": {
        "id": "8bRLpRCmmwUj"
      }
    },
    {
      "cell_type": "code",
      "source": [
        "import math\n",
        "\n",
        "def g(x, y):\n",
        "    return 3*x**2 + 5*math.exp(-y) + 10"
      ],
      "metadata": {
        "id": "tOFnyh3hm2rL"
      },
      "execution_count": 40,
      "outputs": []
    },
    {
      "cell_type": "code",
      "source": [
        "def dg_dx(x, y):\n",
        "  return 6*x"
      ],
      "metadata": {
        "id": "o8UX_vG-m9TC"
      },
      "execution_count": 41,
      "outputs": []
    },
    {
      "cell_type": "code",
      "source": [
        "def dg_dy(x, y):\n",
        "  return -5*math.exp(-y)"
      ],
      "metadata": {
        "id": "F2jMiw5NnCr8"
      },
      "execution_count": 42,
      "outputs": []
    },
    {
      "cell_type": "code",
      "source": [
        "def gradient_descent(learning_rate, initial_x, initial_y, num_iterations):\n",
        "  x, y = initial_x, initial_y\n",
        "  for _ in range(num_iterations):\n",
        "    x -= learning_rate * dg_dx(x, y)\n",
        "    y -= learning_rate * dg_dy(x, y)\n",
        "  return x, y"
      ],
      "metadata": {
        "id": "qd_ZjdxgnIW5"
      },
      "execution_count": 53,
      "outputs": []
    },
    {
      "cell_type": "code",
      "source": [
        "learning_rate = 0.01\n",
        "initial_x = 1\n",
        "initial_y = 1\n",
        "num_iterations = 1000"
      ],
      "metadata": {
        "id": "NcbNElq-nctv"
      },
      "execution_count": 54,
      "outputs": []
    },
    {
      "cell_type": "code",
      "source": [
        "x_min, y_min = gradient_descent(learning_rate, initial_x, initial_y, num_iterations)"
      ],
      "metadata": {
        "id": "lMpXd18Jn5mc"
      },
      "execution_count": 55,
      "outputs": []
    },
    {
      "cell_type": "code",
      "source": [
        "print(f\"The values of x and y that minimize g(x, y) are approximately: x = {x_min}, y = {y_min}\")\n"
      ],
      "metadata": {
        "colab": {
          "base_uri": "https://localhost:8080/"
        },
        "id": "UQ6SiEtPn8rh",
        "outputId": "b6a7369b-7b8c-43d5-9ff6-b26e7389616c"
      },
      "execution_count": 56,
      "outputs": [
        {
          "output_type": "stream",
          "name": "stdout",
          "text": [
            "The values of x and y that minimize g(x, y) are approximately: x = 1.3423123924933694e-27, y = 3.9663707936306642\n"
          ]
        }
      ]
    },
    {
      "cell_type": "markdown",
      "source": [
        "3. (1 ponto) Write Python code without using any libraries to find the value of x at which the\n",
        "sigmoid function z(x) shown in equation (3) has minimum value. Consider Gradient Descent\n",
        "Algorithm.\n",
        "z(x) = 1\n",
        "1 + e−x (3)\n"
      ],
      "metadata": {
        "id": "sCl3ipNHoK0Q"
      }
    },
    {
      "cell_type": "code",
      "source": [
        "import math\n",
        "\n",
        "def sigmoid(x):\n",
        "  return 1 / (1 + math.exp(-x))"
      ],
      "metadata": {
        "id": "jTqL25qdogSk"
      },
      "execution_count": 60,
      "outputs": []
    },
    {
      "cell_type": "code",
      "source": [
        "def sigmoid_derivative(x):\n",
        "  return sigmoid(x) * (1 - sigmoid(x))"
      ],
      "metadata": {
        "id": "jvRXDJ-hoq4S"
      },
      "execution_count": 62,
      "outputs": []
    },
    {
      "cell_type": "code",
      "source": [
        "def gradient_descent(learning_rate, initial_x, num_iterations):\n",
        "  x = initial_x\n",
        "  for _ in range(num_iterations):\n",
        "    gradient = sigmoid_derivative(x)\n",
        "    x = x - learning_rate * gradient\n",
        "  return x"
      ],
      "metadata": {
        "id": "2lnukmunov03"
      },
      "execution_count": 63,
      "outputs": []
    },
    {
      "cell_type": "code",
      "source": [
        "learning_rate = 0.1\n",
        "initial_x = 0\n",
        "num_iterations = 1000"
      ],
      "metadata": {
        "id": "IJUqRiaVo1VP"
      },
      "execution_count": 64,
      "outputs": []
    },
    {
      "cell_type": "code",
      "source": [
        "x_min = gradient_descent(learning_rate, initial_x, num_iterations)\n",
        "\n",
        "print(f\"The value of x that minimizes the sigmoid function is approximately: {x_min}\")"
      ],
      "metadata": {
        "colab": {
          "base_uri": "https://localhost:8080/"
        },
        "id": "u5TSZsZMo5of",
        "outputId": "1264ed91-3e45-4204-fe3f-5028904118a9"
      },
      "execution_count": 65,
      "outputs": [
        {
          "output_type": "stream",
          "name": "stdout",
          "text": [
            "The value of x that minimizes the sigmoid function is approximately: -4.512436490262131\n"
          ]
        }
      ]
    },
    {
      "cell_type": "markdown",
      "source": [
        "4.Write Python code without using any libraries to find the value of optimal values of\n",
        "model parameters M and C such that the model’s Square Error Value shown in equation 4 will\n",
        "be minimum. It means model gives output close to expected output as shown in Figure"
      ],
      "metadata": {
        "id": "mRaLtenGrgf3"
      }
    },
    {
      "cell_type": "code",
      "source": [
        "def predict(x, m, c):\n",
        "    return m * x + c"
      ],
      "metadata": {
        "id": "AdAyXtK1sCP9"
      },
      "execution_count": 66,
      "outputs": []
    },
    {
      "cell_type": "code",
      "source": [
        "def squared_error(x_values, y_values, m, c):\n",
        "    error = 0\n",
        "    for x, y in zip(x_values, y_values):\n",
        "        error += (y - predict(x, m, c)) ** 2\n",
        "    return error\n"
      ],
      "metadata": {
        "id": "Fa6fZTsGsEGs"
      },
      "execution_count": 67,
      "outputs": []
    },
    {
      "cell_type": "code",
      "source": [
        "def gradient_descent(x_values, y_values, learning_rate=0.01, iterations=1000, initial_m=0, initial_c=0):\n",
        "    m = initial_m\n",
        "    c = initial_c\n",
        "    n = len(x_values)\n",
        "    for _ in range(iterations):\n",
        "        dm = 0\n",
        "        dc = 0\n",
        "        for x, y in zip(x_values, y_values):\n",
        "            dm += -2 * x * (y - predict(x, m, c))\n",
        "            dc += -2 * (y - predict(x, m, c))\n",
        "        m = m - learning_rate * (dm / n)\n",
        "        c = c - learning_rate * (dc / n)\n",
        "    return m, c"
      ],
      "metadata": {
        "id": "k_Un0801sFuR"
      },
      "execution_count": 68,
      "outputs": []
    },
    {
      "cell_type": "code",
      "source": [
        "x_values = [1, 2, 3, 4, 5]\n",
        "y_values = [2, 4, 5, 4, 5]"
      ],
      "metadata": {
        "id": "nx1rjfa8sHg2"
      },
      "execution_count": 69,
      "outputs": []
    },
    {
      "cell_type": "code",
      "source": [
        "optimal_m, optimal_c = gradient_descent(x_values, y_values)\n",
        "print(\"Optimal value of M:\", optimal_m)\n",
        "print(\"Optimal value of C:\", optimal_c)"
      ],
      "metadata": {
        "colab": {
          "base_uri": "https://localhost:8080/"
        },
        "id": "nYGZzp33sI9R",
        "outputId": "7e6276bb-b1e5-44e7-b71d-94e41fe37d56"
      },
      "execution_count": 70,
      "outputs": [
        {
          "output_type": "stream",
          "name": "stdout",
          "text": [
            "Optimal value of M: 0.6176946148762643\n",
            "Optimal value of C: 2.136116825825789\n"
          ]
        }
      ]
    }
  ]
}